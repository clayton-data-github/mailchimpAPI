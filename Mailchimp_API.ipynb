{
  "nbformat": 4,
  "nbformat_minor": 0,
  "metadata": {
    "colab": {
      "provenance": [],
      "collapsed_sections": [
        "CSLJ1SU_V-wc",
        "0RX7GCnJWMmM",
        "CpbQ_3f2WpQQ",
        "dq-gFRWCWxSx",
        "HSVXgTUuXEnI"
      ]
    },
    "kernelspec": {
      "name": "python3",
      "display_name": "Python 3"
    },
    "language_info": {
      "name": "python"
    }
  },
  "cells": [
    {
      "cell_type": "code",
      "execution_count": 27,
      "metadata": {
        "id": "yMHZZajnWStT"
      },
      "outputs": [],
      "source": [
        "# pip install git+https://github.com/mailchimp/mailchimp-marketing-python.git\n",
        "# pip install mailchimp-marketing"
      ]
    },
    {
      "cell_type": "code",
      "source": [
        "# import packages\n",
        "import mailchimp_marketing as MailchimpMarketing\n",
        "from mailchimp_marketing.api_client import ApiClientError\n",
        "from mailchimp_marketing import Client"
      ],
      "metadata": {
        "id": "x_oFQj_6YxJS"
      },
      "execution_count": 12,
      "outputs": []
    },
    {
      "cell_type": "markdown",
      "source": [
        "# Step 1: Configure Mailchimp client"
      ],
      "metadata": {
        "id": "CSLJ1SU_V-wc"
      }
    },
    {
      "cell_type": "code",
      "source": [
        "# Configure Mailchimp client\n",
        "mailchimp = Client()\n",
        "mailchimp.set_config({\n",
        "    \"api_key\": \"ba21c0d11b9839704c62d10abc7d7d21-us15\",\n",
        "    \"server\": \"us15\"\n",
        "})"
      ],
      "metadata": {
        "id": "FWfu75DiQATj"
      },
      "execution_count": 16,
      "outputs": []
    },
    {
      "cell_type": "markdown",
      "source": [
        "# Step 2 : Add Subscriber"
      ],
      "metadata": {
        "id": "0RX7GCnJWMmM"
      }
    },
    {
      "cell_type": "code",
      "source": [
        "# Finding list_id\n",
        "try:\n",
        "    response = mailchimp.lists.get_all_lists()\n",
        "    for lst in response[\"lists\"]:\n",
        "        print(f\"List Name: {lst['name']}, List ID: {lst['id']}\")\n",
        "except ApiClientError as error:\n",
        "    print(\"An error occurred:\", error.text)"
      ],
      "metadata": {
        "colab": {
          "base_uri": "https://localhost:8080/"
        },
        "id": "DCBrLmEQvfPB",
        "outputId": "9ba46b30-e993-4746-b002-ccf901d733ec"
      },
      "execution_count": 18,
      "outputs": [
        {
          "output_type": "stream",
          "name": "stdout",
          "text": [
            "List Name: Clayton, List ID: 5a3beab467\n"
          ]
        }
      ]
    },
    {
      "cell_type": "code",
      "source": [
        "list_id = \"5a3beab467\"\n",
        "\n",
        "def add_subscriber(mailchimp_client, list_id, email, first_name, last_name):\n",
        "    \"\"\"\n",
        "    Adds a subscriber to a Mailchimp list.\n",
        "\n",
        "    Parameters:\n",
        "    - mailchimp_client: Configured Mailchimp client instance (step 1)\n",
        "    - list_id: ID of the Mailchimp list\n",
        "    - email: Subscriber's email address\n",
        "    - first_name: Subscriber's first name\n",
        "    - last_name: Subscriber's last name\n",
        "\n",
        "    Returns:\n",
        "    - Response from Mailchimp API if successful\n",
        "    - Error message if an exception occurs\n",
        "    \"\"\"\n",
        "    member_info = {\n",
        "        \"email_address\": email,\n",
        "        \"status\": \"subscribed\",\n",
        "        \"merge_fields\": {\n",
        "            \"FNAME\": first_name,\n",
        "            \"LNAME\": last_name\n",
        "        }\n",
        "    }\n",
        "\n",
        "    try:\n",
        "        response = mailchimp_client.lists.add_list_member(list_id, member_info)\n",
        "        print(\"Subscriber added successfully:\", response)\n",
        "        return response\n",
        "    except ApiClientError as error:\n",
        "        print(\"An error occurred:\", error.text)\n",
        "        return None\n",
        "\n",
        "# add mine email to the list\n",
        "# add_subscriber(mailchimp, list_id, \"a0989595266@gmail.com\", \"Clayton\", \"Teng\")\n",
        "\n",
        "# add Senior Soultion Engineering email to the list\n",
        "add_subscriber(mailchimp, list_id, \"luohsuan.ho@ematicsolutions.com\", \"Luohsuan\", \"Ho\")"
      ],
      "metadata": {
        "colab": {
          "base_uri": "https://localhost:8080/"
        },
        "id": "7EtLPkqEQgVL",
        "outputId": "4caa062e-1b24-4a8d-a96c-8de79f1821f4"
      },
      "execution_count": 22,
      "outputs": [
        {
          "output_type": "stream",
          "name": "stdout",
          "text": [
            "Subscriber added successfully: {'id': 'a3d5824ae44b12ed4d7c4b351da9bfeb', 'email_address': 'luohsuan.ho@ematicsolutions.com', 'unique_email_id': '1c65d31bf0', 'contact_id': 'ae4d5927fdbee23b9db9a2d23ceceeee', 'full_name': 'Luohsuan Ho', 'web_id': 433783574, 'email_type': 'html', 'status': 'subscribed', 'consents_to_one_to_one_messaging': True, 'sms_phone_number': '', 'sms_subscription_status': '', 'sms_subscription_last_updated': '', 'merge_fields': {'FNAME': 'Luohsuan', 'LNAME': 'Ho', 'ADDRESS': '', 'PHONE': '', 'BIRTHDAY': '', 'COMPANY': ''}, 'stats': {'avg_open_rate': 0, 'avg_click_rate': 0}, 'ip_signup': '', 'timestamp_signup': '', 'ip_opt': '34.148.44.29', 'timestamp_opt': '2024-11-30T04:20:50+00:00', 'member_rating': 2, 'last_changed': '2024-11-30T04:20:50+00:00', 'language': '', 'vip': False, 'email_client': '', 'location': {'latitude': 0, 'longitude': 0, 'gmtoff': 0, 'dstoff': 0, 'country_code': '', 'timezone': '', 'region': ''}, 'source': 'API - Generic', 'tags_count': 0, 'tags': [], 'list_id': '5a3beab467', '_links': [{'rel': 'self', 'href': 'https://us15.api.mailchimp.com/3.0/lists/5a3beab467/members/a3d5824ae44b12ed4d7c4b351da9bfeb', 'method': 'GET', 'targetSchema': 'https://us15.api.mailchimp.com/schema/3.0/Definitions/Lists/Members/Response.json'}, {'rel': 'parent', 'href': 'https://us15.api.mailchimp.com/3.0/lists/5a3beab467/members', 'method': 'GET', 'targetSchema': 'https://us15.api.mailchimp.com/schema/3.0/Definitions/Lists/Members/CollectionResponse.json', 'schema': 'https://us15.api.mailchimp.com/schema/3.0/Paths/Lists/Members/Collection.json'}, {'rel': 'update', 'href': 'https://us15.api.mailchimp.com/3.0/lists/5a3beab467/members/a3d5824ae44b12ed4d7c4b351da9bfeb', 'method': 'PATCH', 'targetSchema': 'https://us15.api.mailchimp.com/schema/3.0/Definitions/Lists/Members/Response.json', 'schema': 'https://us15.api.mailchimp.com/schema/3.0/Definitions/Lists/Members/PATCH.json'}, {'rel': 'upsert', 'href': 'https://us15.api.mailchimp.com/3.0/lists/5a3beab467/members/a3d5824ae44b12ed4d7c4b351da9bfeb', 'method': 'PUT', 'targetSchema': 'https://us15.api.mailchimp.com/schema/3.0/Definitions/Lists/Members/Response.json', 'schema': 'https://us15.api.mailchimp.com/schema/3.0/Definitions/Lists/Members/PUT.json'}, {'rel': 'delete', 'href': 'https://us15.api.mailchimp.com/3.0/lists/5a3beab467/members/a3d5824ae44b12ed4d7c4b351da9bfeb', 'method': 'DELETE'}, {'rel': 'activity', 'href': 'https://us15.api.mailchimp.com/3.0/lists/5a3beab467/members/a3d5824ae44b12ed4d7c4b351da9bfeb/activity', 'method': 'GET', 'targetSchema': 'https://us15.api.mailchimp.com/schema/3.0/Definitions/Lists/Members/Activity/Response.json'}, {'rel': 'goals', 'href': 'https://us15.api.mailchimp.com/3.0/lists/5a3beab467/members/a3d5824ae44b12ed4d7c4b351da9bfeb/goals', 'method': 'GET', 'targetSchema': 'https://us15.api.mailchimp.com/schema/3.0/Definitions/Lists/Members/Goals/Response.json'}, {'rel': 'notes', 'href': 'https://us15.api.mailchimp.com/3.0/lists/5a3beab467/members/a3d5824ae44b12ed4d7c4b351da9bfeb/notes', 'method': 'GET', 'targetSchema': 'https://us15.api.mailchimp.com/schema/3.0/Definitions/Lists/Members/Notes/CollectionResponse.json'}, {'rel': 'events', 'href': 'https://us15.api.mailchimp.com/3.0/lists/5a3beab467/members/a3d5824ae44b12ed4d7c4b351da9bfeb/events', 'method': 'POST', 'targetSchema': 'https://us15.api.mailchimp.com/schema/3.0/Definitions/Lists/Members/Events/POST.json'}, {'rel': 'delete_permanent', 'href': 'https://us15.api.mailchimp.com/3.0/lists/5a3beab467/members/a3d5824ae44b12ed4d7c4b351da9bfeb/actions/delete-permanent', 'method': 'POST'}]}\n"
          ]
        },
        {
          "output_type": "execute_result",
          "data": {
            "text/plain": [
              "{'id': 'a3d5824ae44b12ed4d7c4b351da9bfeb',\n",
              " 'email_address': 'luohsuan.ho@ematicsolutions.com',\n",
              " 'unique_email_id': '1c65d31bf0',\n",
              " 'contact_id': 'ae4d5927fdbee23b9db9a2d23ceceeee',\n",
              " 'full_name': 'Luohsuan Ho',\n",
              " 'web_id': 433783574,\n",
              " 'email_type': 'html',\n",
              " 'status': 'subscribed',\n",
              " 'consents_to_one_to_one_messaging': True,\n",
              " 'sms_phone_number': '',\n",
              " 'sms_subscription_status': '',\n",
              " 'sms_subscription_last_updated': '',\n",
              " 'merge_fields': {'FNAME': 'Luohsuan',\n",
              "  'LNAME': 'Ho',\n",
              "  'ADDRESS': '',\n",
              "  'PHONE': '',\n",
              "  'BIRTHDAY': '',\n",
              "  'COMPANY': ''},\n",
              " 'stats': {'avg_open_rate': 0, 'avg_click_rate': 0},\n",
              " 'ip_signup': '',\n",
              " 'timestamp_signup': '',\n",
              " 'ip_opt': '34.148.44.29',\n",
              " 'timestamp_opt': '2024-11-30T04:20:50+00:00',\n",
              " 'member_rating': 2,\n",
              " 'last_changed': '2024-11-30T04:20:50+00:00',\n",
              " 'language': '',\n",
              " 'vip': False,\n",
              " 'email_client': '',\n",
              " 'location': {'latitude': 0,\n",
              "  'longitude': 0,\n",
              "  'gmtoff': 0,\n",
              "  'dstoff': 0,\n",
              "  'country_code': '',\n",
              "  'timezone': '',\n",
              "  'region': ''},\n",
              " 'source': 'API - Generic',\n",
              " 'tags_count': 0,\n",
              " 'tags': [],\n",
              " 'list_id': '5a3beab467',\n",
              " '_links': [{'rel': 'self',\n",
              "   'href': 'https://us15.api.mailchimp.com/3.0/lists/5a3beab467/members/a3d5824ae44b12ed4d7c4b351da9bfeb',\n",
              "   'method': 'GET',\n",
              "   'targetSchema': 'https://us15.api.mailchimp.com/schema/3.0/Definitions/Lists/Members/Response.json'},\n",
              "  {'rel': 'parent',\n",
              "   'href': 'https://us15.api.mailchimp.com/3.0/lists/5a3beab467/members',\n",
              "   'method': 'GET',\n",
              "   'targetSchema': 'https://us15.api.mailchimp.com/schema/3.0/Definitions/Lists/Members/CollectionResponse.json',\n",
              "   'schema': 'https://us15.api.mailchimp.com/schema/3.0/Paths/Lists/Members/Collection.json'},\n",
              "  {'rel': 'update',\n",
              "   'href': 'https://us15.api.mailchimp.com/3.0/lists/5a3beab467/members/a3d5824ae44b12ed4d7c4b351da9bfeb',\n",
              "   'method': 'PATCH',\n",
              "   'targetSchema': 'https://us15.api.mailchimp.com/schema/3.0/Definitions/Lists/Members/Response.json',\n",
              "   'schema': 'https://us15.api.mailchimp.com/schema/3.0/Definitions/Lists/Members/PATCH.json'},\n",
              "  {'rel': 'upsert',\n",
              "   'href': 'https://us15.api.mailchimp.com/3.0/lists/5a3beab467/members/a3d5824ae44b12ed4d7c4b351da9bfeb',\n",
              "   'method': 'PUT',\n",
              "   'targetSchema': 'https://us15.api.mailchimp.com/schema/3.0/Definitions/Lists/Members/Response.json',\n",
              "   'schema': 'https://us15.api.mailchimp.com/schema/3.0/Definitions/Lists/Members/PUT.json'},\n",
              "  {'rel': 'delete',\n",
              "   'href': 'https://us15.api.mailchimp.com/3.0/lists/5a3beab467/members/a3d5824ae44b12ed4d7c4b351da9bfeb',\n",
              "   'method': 'DELETE'},\n",
              "  {'rel': 'activity',\n",
              "   'href': 'https://us15.api.mailchimp.com/3.0/lists/5a3beab467/members/a3d5824ae44b12ed4d7c4b351da9bfeb/activity',\n",
              "   'method': 'GET',\n",
              "   'targetSchema': 'https://us15.api.mailchimp.com/schema/3.0/Definitions/Lists/Members/Activity/Response.json'},\n",
              "  {'rel': 'goals',\n",
              "   'href': 'https://us15.api.mailchimp.com/3.0/lists/5a3beab467/members/a3d5824ae44b12ed4d7c4b351da9bfeb/goals',\n",
              "   'method': 'GET',\n",
              "   'targetSchema': 'https://us15.api.mailchimp.com/schema/3.0/Definitions/Lists/Members/Goals/Response.json'},\n",
              "  {'rel': 'notes',\n",
              "   'href': 'https://us15.api.mailchimp.com/3.0/lists/5a3beab467/members/a3d5824ae44b12ed4d7c4b351da9bfeb/notes',\n",
              "   'method': 'GET',\n",
              "   'targetSchema': 'https://us15.api.mailchimp.com/schema/3.0/Definitions/Lists/Members/Notes/CollectionResponse.json'},\n",
              "  {'rel': 'events',\n",
              "   'href': 'https://us15.api.mailchimp.com/3.0/lists/5a3beab467/members/a3d5824ae44b12ed4d7c4b351da9bfeb/events',\n",
              "   'method': 'POST',\n",
              "   'targetSchema': 'https://us15.api.mailchimp.com/schema/3.0/Definitions/Lists/Members/Events/POST.json'},\n",
              "  {'rel': 'delete_permanent',\n",
              "   'href': 'https://us15.api.mailchimp.com/3.0/lists/5a3beab467/members/a3d5824ae44b12ed4d7c4b351da9bfeb/actions/delete-permanent',\n",
              "   'method': 'POST'}]}"
            ]
          },
          "metadata": {},
          "execution_count": 22
        }
      ]
    },
    {
      "cell_type": "markdown",
      "source": [
        "## checking list"
      ],
      "metadata": {
        "id": "MHAM-yvwWiMw"
      }
    },
    {
      "cell_type": "code",
      "source": [
        "# Get list details\n",
        "try:\n",
        "    response = mailchimp.lists.get_list(list_id)\n",
        "    print(\"List Info:\", response)\n",
        "except ApiClientError as error:\n",
        "    print(\"An exception occurred:\", error.text)\n"
      ],
      "metadata": {
        "colab": {
          "base_uri": "https://localhost:8080/"
        },
        "id": "nuS0bmkPQp9g",
        "outputId": "d03fa15c-d864-494d-b6f1-5d36bcf66c66"
      },
      "execution_count": 23,
      "outputs": [
        {
          "output_type": "stream",
          "name": "stdout",
          "text": [
            "List Info: {'id': '5a3beab467', 'web_id': 313940, 'name': 'Clayton', 'contact': {'company': 'Clayton', 'address1': '287 Section 3, Nanjing E Rd', 'address2': '', 'city': 'Taipei', 'state': '', 'zip': '105', 'country': 'TW', 'phone': ''}, 'permission_reminder': 'You are receiving this email because you opted in via our website.', 'use_archive_bar': True, 'campaign_defaults': {'from_name': 'Clayton', 'from_email': 'a0989595266@gmail.com', 'subject': '', 'language': 'en'}, 'notify_on_subscribe': '', 'notify_on_unsubscribe': '', 'date_created': '2024-11-29T17:12:55+00:00', 'list_rating': 0, 'email_type_option': False, 'subscribe_url_short': 'http://eepurl.com/i5fwH6', 'subscribe_url_long': 'https://gmail.us15.list-manage.com/subscribe?u=cf25998a34d96d3462ec8197e&id=5a3beab467', 'beamer_address': 'us15-99535289a8-2453ea15a2@inbound.mailchimp.com', 'visibility': 'prv', 'double_optin': False, 'has_welcome': False, 'marketing_permissions': False, 'modules': [], 'stats': {'member_count': 2, 'unsubscribe_count': 0, 'cleaned_count': 0, 'member_count_since_send': 0, 'unsubscribe_count_since_send': 0, 'cleaned_count_since_send': 0, 'campaign_count': 0, 'campaign_last_sent': '', 'merge_field_count': 6, 'avg_sub_rate': 15, 'avg_unsub_rate': 0, 'target_sub_rate': 0, 'open_rate': 0, 'click_rate': 0, 'last_sub_date': '2024-11-30T04:20:50+00:00', 'last_unsub_date': ''}, '_links': [{'rel': 'self', 'href': 'https://us15.api.mailchimp.com/3.0/lists/5a3beab467', 'method': 'GET', 'targetSchema': 'https://us15.api.mailchimp.com/schema/3.0/Definitions/Lists/Response.json'}, {'rel': 'parent', 'href': 'https://us15.api.mailchimp.com/3.0/lists', 'method': 'GET', 'targetSchema': 'https://us15.api.mailchimp.com/schema/3.0/Definitions/Lists/CollectionResponse.json', 'schema': 'https://us15.api.mailchimp.com/schema/3.0/Paths/Lists/Collection.json'}, {'rel': 'update', 'href': 'https://us15.api.mailchimp.com/3.0/lists/5a3beab467', 'method': 'PATCH', 'targetSchema': 'https://us15.api.mailchimp.com/schema/3.0/Definitions/Lists/Response.json', 'schema': 'https://us15.api.mailchimp.com/schema/3.0/Definitions/Lists/PATCH.json'}, {'rel': 'batch-sub-unsub-members', 'href': 'https://us15.api.mailchimp.com/3.0/lists/5a3beab467', 'method': 'POST', 'targetSchema': 'https://us15.api.mailchimp.com/schema/3.0/Definitions/Lists/BatchPOST-Response.json', 'schema': 'https://us15.api.mailchimp.com/schema/3.0/Definitions/Lists/BatchPOST.json'}, {'rel': 'delete', 'href': 'https://us15.api.mailchimp.com/3.0/lists/5a3beab467', 'method': 'DELETE'}, {'rel': 'abuse-reports', 'href': 'https://us15.api.mailchimp.com/3.0/lists/5a3beab467/abuse-reports', 'method': 'GET', 'targetSchema': 'https://us15.api.mailchimp.com/schema/3.0/Definitions/Lists/Abuse/CollectionResponse.json', 'schema': 'https://us15.api.mailchimp.com/schema/3.0/Paths/Lists/Abuse/Collection.json'}, {'rel': 'activity', 'href': 'https://us15.api.mailchimp.com/3.0/lists/5a3beab467/activity', 'method': 'GET', 'targetSchema': 'https://us15.api.mailchimp.com/schema/3.0/Definitions/Lists/Activity/Response.json'}, {'rel': 'clients', 'href': 'https://us15.api.mailchimp.com/3.0/lists/5a3beab467/clients', 'method': 'GET', 'targetSchema': 'https://us15.api.mailchimp.com/schema/3.0/Definitions/Lists/Clients/Response.json'}, {'rel': 'growth-history', 'href': 'https://us15.api.mailchimp.com/3.0/lists/5a3beab467/growth-history', 'method': 'GET', 'targetSchema': 'https://us15.api.mailchimp.com/schema/3.0/Definitions/Lists/Growth/CollectionResponse.json', 'schema': 'https://us15.api.mailchimp.com/schema/3.0/Paths/Lists/Growth/Collection.json'}, {'rel': 'interest-categories', 'href': 'https://us15.api.mailchimp.com/3.0/lists/5a3beab467/interest-categories', 'method': 'GET', 'targetSchema': 'https://us15.api.mailchimp.com/schema/3.0/Definitions/Lists/InterestCategories/CollectionResponse.json', 'schema': 'https://us15.api.mailchimp.com/schema/3.0/Paths/Lists/InterestCategories/Collection.json'}, {'rel': 'members', 'href': 'https://us15.api.mailchimp.com/3.0/lists/5a3beab467/members', 'method': 'GET', 'targetSchema': 'https://us15.api.mailchimp.com/schema/3.0/Definitions/Lists/Members/CollectionResponse.json', 'schema': 'https://us15.api.mailchimp.com/schema/3.0/Paths/Lists/Members/Collection.json'}, {'rel': 'merge-fields', 'href': 'https://us15.api.mailchimp.com/3.0/lists/5a3beab467/merge-fields', 'method': 'GET', 'targetSchema': 'https://us15.api.mailchimp.com/schema/3.0/Definitions/Lists/MergeFields/CollectionResponse.json', 'schema': 'https://us15.api.mailchimp.com/schema/3.0/Paths/Lists/MergeFields/Collection.json'}, {'rel': 'segments', 'href': 'https://us15.api.mailchimp.com/3.0/lists/5a3beab467/segments', 'method': 'GET', 'targetSchema': 'https://us15.api.mailchimp.com/schema/3.0/Definitions/Lists/Segments/CollectionResponse.json', 'schema': 'https://us15.api.mailchimp.com/schema/3.0/Paths/Lists/Segments/Collection.json'}, {'rel': 'webhooks', 'href': 'https://us15.api.mailchimp.com/3.0/lists/5a3beab467/webhooks', 'method': 'GET', 'targetSchema': 'https://us15.api.mailchimp.com/schema/3.0/Definitions/Lists/Webhooks/CollectionResponse.json', 'schema': 'https://us15.api.mailchimp.com/schema/3.0/Paths/Lists/Webhooks/Collection.json'}, {'rel': 'signup-forms', 'href': 'https://us15.api.mailchimp.com/3.0/lists/5a3beab467/signup-forms', 'method': 'GET', 'targetSchema': 'https://us15.api.mailchimp.com/schema/3.0/Definitions/Lists/SignupForms/CollectionResponse.json', 'schema': 'https://us15.api.mailchimp.com/schema/3.0/Paths/Lists/SignupForms/Collection.json'}, {'rel': 'locations', 'href': 'https://us15.api.mailchimp.com/3.0/lists/5a3beab467/locations', 'method': 'GET', 'targetSchema': 'https://us15.api.mailchimp.com/schema/3.0/Definitions/Lists/Locations/CollectionResponse.json', 'schema': 'https://us15.api.mailchimp.com/schema/3.0/Paths/Lists/Locations/Collection.json'}]}\n"
          ]
        }
      ]
    },
    {
      "cell_type": "markdown",
      "source": [
        "# Step 3 : Create a Campaign\n",
        "\n"
      ],
      "metadata": {
        "id": "CpbQ_3f2WpQQ"
      }
    },
    {
      "cell_type": "code",
      "source": [
        "campaign_body = {\n",
        "    \"type\": \"regular\",\n",
        "    \"recipients\": {\"list_id\": list_id},\n",
        "    \"settings\": {\n",
        "        \"subject_line\": \"Ematic Test Campaign\",\n",
        "        \"title\": \"Want to optimize your business strategy? Ematic can HELP!\",\n",
        "        \"from_name\": \"Clayton\",\n",
        "        \"reply_to\": \"a0989595266@gmail.com\"\n",
        "    }\n",
        "}\n",
        "\n",
        "try:\n",
        "    # Create the campaign\n",
        "    response = mailchimp.campaigns.create(campaign_body)\n",
        "    campaign_id = response[\"id\"]\n",
        "    print(\"Campaign created:\", campaign_id)\n",
        "except ApiClientError as error:\n",
        "    print(\"An exception occurred:\", error.text)\n"
      ],
      "metadata": {
        "colab": {
          "base_uri": "https://localhost:8080/"
        },
        "id": "bZKe4MC8QqUa",
        "outputId": "b988d616-ea30-4199-84ff-329cea4e78c5"
      },
      "execution_count": 24,
      "outputs": [
        {
          "output_type": "stream",
          "name": "stdout",
          "text": [
            "Campaign created: 11852a114d\n"
          ]
        }
      ]
    },
    {
      "cell_type": "markdown",
      "source": [
        "# Step 5: Add Content to the Campaign"
      ],
      "metadata": {
        "id": "dq-gFRWCWxSx"
      }
    },
    {
      "cell_type": "code",
      "source": [
        "content_body = {\n",
        "    \"html\": \"<h1>Welcome to Ematic campaign!</h1><p>This is a test email.</p>\"\n",
        "}\n",
        "\n",
        "try:\n",
        "    # Add content to the campaign\n",
        "    mailchimp.campaigns.set_content(campaign_id, content_body)\n",
        "    print(\"Content added to the campaign.\")\n",
        "except ApiClientError as error:\n",
        "    print(\"An exception occurred:\", error.text)\n"
      ],
      "metadata": {
        "colab": {
          "base_uri": "https://localhost:8080/"
        },
        "id": "wzk5NeDZQqa5",
        "outputId": "7a050601-180b-4ed9-bfca-0ed920aa6351"
      },
      "execution_count": 25,
      "outputs": [
        {
          "output_type": "stream",
          "name": "stdout",
          "text": [
            "Content added to the campaign.\n"
          ]
        }
      ]
    },
    {
      "cell_type": "markdown",
      "source": [
        "# Step 6: Send the Campaign"
      ],
      "metadata": {
        "id": "HSVXgTUuXEnI"
      }
    },
    {
      "cell_type": "code",
      "source": [
        "try:\n",
        "    # Send the campaign\n",
        "    mailchimp.campaigns.send(campaign_id)\n",
        "    print(\"Campaign sent!\")\n",
        "except ApiClientError as error:\n",
        "    print(\"An exception occurred:\", error.text)\n"
      ],
      "metadata": {
        "colab": {
          "base_uri": "https://localhost:8080/"
        },
        "id": "jYyOk9niUoyD",
        "outputId": "fb066a43-2584-4770-d5fd-d60c60a7da69"
      },
      "execution_count": 26,
      "outputs": [
        {
          "output_type": "stream",
          "name": "stdout",
          "text": [
            "Campaign sent!\n"
          ]
        }
      ]
    }
  ]
}